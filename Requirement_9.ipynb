{
  "nbformat": 4,
  "nbformat_minor": 0,
  "metadata": {
    "colab": {
      "provenance": []
    },
    "kernelspec": {
      "name": "python3",
      "display_name": "Python 3"
    },
    "language_info": {
      "name": "python"
    }
  },
  "cells": [
    {
      "cell_type": "markdown",
      "source": [
        "# Requirement 9 - Colab Environment\n",
        "\n",
        "This .ipynb file contains everything needed to set up an instance of MineRL v0.4.4 on Google Colab. With everything set up this way, we can ensure a consistent environment for training and testing purposes."
      ],
      "metadata": {
        "id": "Lm1UoUjy0qc3"
      }
    },
    {
      "cell_type": "markdown",
      "source": [
        "# Installations"
      ],
      "metadata": {
        "id": "f6Ksc2TT1FtD"
      }
    },
    {
      "cell_type": "code",
      "source": [
        "%%capture\n",
        "# Install all necessary libraries and applications\n",
        "!sudo add-apt-repository -y ppa:openjdk-r/ppa\n",
        "!sudo apt-get purge openjdk-*\n",
        "!sudo apt-get install openjdk-8-jdk\n",
        "!sudo apt-get install xvfb\n",
        "!sudo apt-get install xserver-xephyr\n",
        "!sudo apt-get install -y python3-opengl\n",
        "!sudo apt-get install ffmpeg\n",
        "!pip3 install gym==0.13.1\n",
        "!pip3 install minerl==0.4.4\n",
        "!pip3 install pyvirtualdisplay\n",
        "!pip3 install -U colabgymrender\n",
        "!sudo apt-get install xvfb\n",
        "!sudo apt-get install tigervnc-standalone-server\n",
        "!pip3 install opencv-python\n",
        "!pip3 install imageio==2.4.1\n",
        "!piip3 install pytorch"
      ],
      "metadata": {
        "id": "MC-sp9zD1Day"
      },
      "execution_count": null,
      "outputs": []
    },
    {
      "cell_type": "markdown",
      "source": [
        "# Environment Setup"
      ],
      "metadata": {
        "id": "NZ9pNQkr1p8K"
      }
    },
    {
      "cell_type": "code",
      "source": [
        "import numpy as np\n",
        "import torch as th\n",
        "from torch import nn\n",
        "import gym\n",
        "import minerl\n",
        "from tqdm.notebook import tqdm\n",
        "from colabgymrender.recorder import Recorder\n",
        "from pyvirtualdisplay import Display"
      ],
      "metadata": {
        "id": "Dmutyfya1s7d"
      },
      "execution_count": null,
      "outputs": []
    },
    {
      "cell_type": "code",
      "source": [
        "# Start the Display\n",
        "# Launch virtual display, which is needed for MineRL\n",
        "display = Display(visible=False, size=(400, 300))\n",
        "display.start();"
      ],
      "metadata": {
        "id": "5ra0QN-K1dB4"
      },
      "execution_count": null,
      "outputs": []
    }
  ]
}