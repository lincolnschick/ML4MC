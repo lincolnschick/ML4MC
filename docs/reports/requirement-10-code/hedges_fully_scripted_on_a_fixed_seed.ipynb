{
  "cells": [
    {
      "cell_type": "markdown",
      "metadata": {
        "id": "view-in-github",
        "colab_type": "text"
      },
      "source": [
        "<a href=\"https://colab.research.google.com/github/lincolnschick/ML4MC/blob/main/docs/reports/requirement-10-code/hedges_fully_scripted_on_a_fixed_seed.ipynb\" target=\"_parent\"><img src=\"https://colab.research.google.com/assets/colab-badge.svg\" alt=\"Open In Colab\"/></a>"
      ]
    },
    {
      "cell_type": "markdown",
      "metadata": {
        "id": "Pxwl_yG1qhR7"
      },
      "source": [
        "<div style=\"text-align: center\">\n",
        "  <img src=\"https://github.com/KarolisRam/MineRL2021-Intro-baselines/blob/main/img/colab_banner.png?raw=true\">\n",
        "</div>"
      ]
    },
    {
      "cell_type": "markdown",
      "metadata": {
        "id": "-_BGlQwngccr"
      },
      "source": [
        "# Introduction\n",
        "This notebook is part one of the Intro track baselines for the [MineRL 2021](https://minerl.io/) competition. It provides an easy way to try out the MineRL environment without having to install anything on your machine. The notebook should run in 5-10 minutes if you click `Runtime -> Run All` in the menu above.  \n",
        "\n",
        "If you want to edit the notebook, you will have to save a copy to your Google Drive. Simply click `File -> Save a copy in Drive`.\n",
        "\n",
        "Below you will find a fully scripted agent that spawns in a fixed world and executes a sequence of actions to acquire 6 pieces of wood, craft a wooden pickaxe and dig some cobblestone.  \n",
        "\n",
        "You can try adjusting the scripted part to progress further in the task and acquire more rewards. Please note that in the competition setting your agent will spawn in a random world - this is explored in the second notebook:  \n",
        "\n",
        "[MineRL fully scripted](https://colab.research.google.com/drive/1ipj34U_Ub8IsTO0I80o4bUTtltERMErm?usp=sharing)"
      ]
    },
    {
      "cell_type": "markdown",
      "metadata": {
        "id": "9mCU5PuhuM6f"
      },
      "source": [
        "# Setup"
      ]
    },
    {
      "cell_type": "code",
      "execution_count": null,
      "metadata": {
        "id": "_HTScYNljgXv"
      },
      "outputs": [],
      "source": [
        "# %%capture\n",
        "# # ^ hides output\n",
        "# !sudo add-apt-repository -y ppa:openjdk-r/ppa\n",
        "# !sudo apt-get purge openjdk-*\n",
        "# !sudo apt-get install openjdk-8-jdk\n",
        "# !sudo apt-get install xvfb xserver-xephyr vnc4server python-opengl ffmpeg"
      ]
    },
    {
      "cell_type": "code",
      "execution_count": null,
      "metadata": {
        "colab": {
          "background_save": true
        },
        "id": "oI3d96HBqwhu"
      },
      "outputs": [],
      "source": [
        "%%capture\n",
        "!sudo add-apt-repository -y ppa:openjdk-r/ppa\n",
        "!sudo apt-get purge openjdk-*\n",
        "!sudo apt-get install openjdk-8-jdk\n",
        "!sudo apt-get install xvfb\n",
        "!sudo apt-get install xserver-xephyr\n",
        "!sudo apt-get install -y python3-opengl\n",
        "!sudo apt-get install ffmpeg\n",
        "!pip3 install gym==0.13.1\n",
        "!pip3 install minerl==0.4.4\n",
        "!pip3 install pyvirtualdisplay\n",
        "!pip3 install -U colabgymrender\n",
        "!sudo apt-get install xvfb"
      ]
    },
    {
      "cell_type": "code",
      "execution_count": null,
      "metadata": {
        "colab": {
          "background_save": true
        },
        "id": "IvwfTLhVrBvi",
        "outputId": "1b4cabc3-244b-457d-a205-1aa08d7d141b"
      },
      "outputs": [
        {
          "name": "stdout",
          "output_type": "stream",
          "text": [
            "Reading package lists... Done\n",
            "Building dependency tree... Done\n",
            "Reading state information... Done\n",
            "Package vnc4server is not available, but is referred to by another package.\n",
            "This may mean that the package is missing, has been obsoleted, or\n",
            "is only available from another source\n",
            "\n",
            "E: Package 'vnc4server' has no installation candidate\n",
            "E: Unable to locate package python-opengl\n"
          ]
        }
      ],
      "source": [
        "!sudo apt-get install xvfb xserver-xephyr vnc4server python-opengl ffmpeg"
      ]
    },
    {
      "cell_type": "code",
      "execution_count": null,
      "metadata": {
        "colab": {
          "background_save": true
        },
        "id": "xh6gb3UWjT3p"
      },
      "outputs": [],
      "source": [
        "%%capture\n",
        "# ^ hides output\n",
        "# !pip3 install --upgrade minerl\n",
        "!pip3 install pyvirtualdisplay\n",
        "!pip3 install imageio==2.4.1\n",
        "!pip3 install -U colabgymrender"
      ]
    },
    {
      "cell_type": "markdown",
      "metadata": {
        "id": "4azuX_ZHoIC8"
      },
      "source": [
        "# Import libraries"
      ]
    },
    {
      "cell_type": "code",
      "execution_count": null,
      "metadata": {
        "colab": {
          "background_save": true
        },
        "id": "g8_vZpMFpiD9"
      },
      "outputs": [],
      "source": [
        "import gym\n",
        "import minerl\n",
        "from tqdm.notebook import tqdm\n",
        "from colabgymrender.recorder import Recorder\n",
        "from pyvirtualdisplay import Display\n",
        "import logging\n",
        "logging.disable(logging.ERROR) # reduce clutter, remove if something doesn't work to see the error logs."
      ]
    },
    {
      "cell_type": "markdown",
      "metadata": {
        "id": "5jy5N0AeoMoz"
      },
      "source": [
        "# Start of the agent code"
      ]
    },
    {
      "cell_type": "code",
      "execution_count": null,
      "metadata": {
        "colab": {
          "background_save": true
        },
        "id": "2ZDmSMRP8eto"
      },
      "outputs": [],
      "source": [
        "def str_to_act(env, actions):\n",
        "    \"\"\"\n",
        "    Simplifies specifying actions for the scripted part of the agent.\n",
        "    Some examples for a string with a single action:\n",
        "        'craft:planks'\n",
        "        'camera:[10,0]'\n",
        "        'attack'\n",
        "        'jump'\n",
        "        ''\n",
        "    There should be no spaces in single actions, as we use spaces to separate actions with multiple \"buttons\" pressed:\n",
        "        'attack sprint forward'\n",
        "        'forward camera:[0,10]'\n",
        "\n",
        "    :param env: base MineRL environment.\n",
        "    :param actions: string of actions.\n",
        "    :return: dict action, compatible with the base MineRL environment.\n",
        "    \"\"\"\n",
        "    act = env.action_space.noop()\n",
        "    for action in actions.split():\n",
        "        if \":\" in action:\n",
        "            k, v = action.split(':')\n",
        "            if k == 'camera':\n",
        "                act[k] = eval(v)\n",
        "            else:\n",
        "                act[k] = v\n",
        "        else:\n",
        "            act[action] = 1\n",
        "    return act"
      ]
    },
    {
      "cell_type": "markdown",
      "metadata": {
        "id": "aaUKtO-3oVKu"
      },
      "source": [
        "# Actions\n",
        "Here's a list of all possible actions:\n",
        "```\n",
        "Dict(attack:Discrete(2),\n",
        "     back:Discrete(2),\n",
        "     camera:Box(low=-180.0, high=180.0, shape=(2,)),\n",
        "     craft:Enum(crafting_table,none,planks,stick,torch),\n",
        "     equip:Enum(air,iron_axe,iron_pickaxe,none,stone_axe,stone_pickaxe,wooden_axe,wooden_pickaxe),\n",
        "     forward:Discrete(2),\n",
        "     jump:Discrete(2),\n",
        "     left:Discrete(2),\n",
        "     nearbyCraft:Enum(furnace,iron_axe,iron_pickaxe,none,stone_axe,stone_pickaxe,wooden_axe,wooden_pickaxe),\n",
        "     nearbySmelt:Enum(coal,iron_ingot,none),\n",
        "     place:Enum(cobblestone,crafting_table,dirt,furnace,none,stone,torch),\n",
        "     right:Discrete(2),\n",
        "     sneak:Discrete(2),\n",
        "     sprint:Discrete(2))\n",
        "```\n",
        "\n",
        "### Camera\n",
        "Camera actions contain two values:\n",
        "1. Pitch (up/down), where up is negative, down is positive.\n",
        "2. Yaw (left/right), where left is negative, right is positive.  \n",
        "\n",
        "For example, moving the camera up by 10 degrees would be 'camera:[-10,0]'.\n"
      ]
    },
    {
      "cell_type": "markdown",
      "metadata": {
        "id": "_ehM5mNvAGKI"
      },
      "source": [
        "# Change agent behaviour here\n",
        "To change the sequence of actions that the agent performs, change the code inside the `get_action_sequence()` function below. One action is done every tick and there are 20 ticks per second in a regular Minecraft game.  \n"
      ]
    },
    {
      "cell_type": "code",
      "execution_count": null,
      "metadata": {
        "colab": {
          "background_save": true
        },
        "id": "8BzwD0sI8fbg"
      },
      "outputs": [],
      "source": [
        "def get_action_sequence():\n",
        "    \"\"\"\n",
        "    Specify the action sequence for the agent to execute.\n",
        "    \"\"\"\n",
        "    # get 6 logs:\n",
        "    action_sequence = []\n",
        "    action_sequence += [''] * 100  # wait 5 sec\n",
        "    action_sequence += ['forward'] * 8\n",
        "    action_sequence += ['attack'] * 61\n",
        "    action_sequence += ['camera:[-10,0]'] * 7  # look up\n",
        "    action_sequence += ['attack'] * 61\n",
        "    action_sequence += ['attack'] * 61\n",
        "    action_sequence += ['attack'] * 61\n",
        "    action_sequence += ['attack'] * 61\n",
        "    action_sequence += [''] * 50\n",
        "    action_sequence += ['jump']\n",
        "    action_sequence += ['forward'] * 10\n",
        "    action_sequence += ['camera:[-10,0]'] * 2\n",
        "    action_sequence += ['attack'] * 61\n",
        "    action_sequence += ['attack'] * 61\n",
        "    action_sequence += ['attack'] * 61\n",
        "    action_sequence += ['camera:[10,0]'] * 9  # look down\n",
        "    action_sequence += [''] * 50\n",
        "\n",
        "    # make planks, sticks, crafting table and wooden pickaxe:\n",
        "    action_sequence += ['back'] * 2\n",
        "    action_sequence += ['craft:planks'] * 4\n",
        "    action_sequence += ['craft:stick'] * 2\n",
        "    action_sequence += ['craft:crafting_table']\n",
        "    action_sequence += ['camera:[10,0]'] * 9\n",
        "    action_sequence += ['jump']\n",
        "    action_sequence += [''] * 5\n",
        "    action_sequence += ['place:crafting_table']\n",
        "    action_sequence += [''] * 10\n",
        "\n",
        "    # bug: looking straight down at a crafting table doesn't let you craft. So we look up a bit before crafting:\n",
        "    action_sequence += ['camera:[-1,0]']\n",
        "    action_sequence += ['nearbyCraft:wooden_pickaxe']\n",
        "    action_sequence += ['camera:[1,0]']\n",
        "    action_sequence += [''] * 10\n",
        "    action_sequence += ['equip:wooden_pickaxe']\n",
        "    action_sequence += [''] * 10\n",
        "\n",
        "    # dig down:\n",
        "    action_sequence += ['attack'] * 600\n",
        "    action_sequence += [''] * 10\n",
        "\n",
        "    # make stone pick and furnace\n",
        "    action_sequence += ['jump']\n",
        "    action_sequence += [''] * 5\n",
        "    action_sequence += ['place:crafting_table']\n",
        "    action_sequence += [''] * 10\n",
        "\n",
        "    action_sequence += ['camera:[-1,0]']\n",
        "    action_sequence += ['nearbyCraft:stone_pickaxe']\n",
        "    action_sequence += ['nearbyCraft:furnace']\n",
        "    action_sequence += ['camera:[1,0]']\n",
        "    action_sequence += [''] * 10\n",
        "    action_sequence += ['equip:stone_pickaxe']\n",
        "    action_sequence += [''] * 10\n",
        "\n",
        "    return action_sequence"
      ]
    },
    {
      "cell_type": "markdown",
      "metadata": {
        "id": "PYdy3UhroZy8"
      },
      "source": [
        "# Start Minecraft"
      ]
    },
    {
      "cell_type": "code",
      "execution_count": null,
      "metadata": {
        "colab": {
          "background_save": true
        },
        "id": "K9OKQCgz4XQk"
      },
      "outputs": [],
      "source": [
        "display = Display(visible=0, size=(400, 300))\n",
        "display.start();"
      ]
    },
    {
      "cell_type": "code",
      "execution_count": null,
      "metadata": {
        "colab": {
          "background_save": true
        },
        "id": "DcISmd-ItWK-",
        "outputId": "fc54ca84-3c48-4d4f-f070-315f6a52aa58"
      },
      "outputs": [
        {
          "name": "stdout",
          "output_type": "stream",
          "text": [
            "Reading package lists... Done\n",
            "Building dependency tree... Done\n",
            "Reading state information... Done\n",
            "The following additional packages will be installed:\n",
            "  libfile-readbackwards-perl tigervnc-common tigervnc-tools x11-xserver-utils\n",
            "Suggested packages:\n",
            "  xfonts-100dpi | xfonts-75dpi xfonts-scalable nickle cairo-5c xorg-docs-core\n",
            "The following NEW packages will be installed:\n",
            "  libfile-readbackwards-perl tigervnc-common tigervnc-standalone-server\n",
            "  tigervnc-tools x11-xserver-utils\n",
            "0 upgraded, 5 newly installed, 0 to remove and 18 not upgraded.\n",
            "Need to get 1,442 kB of archives.\n",
            "After this operation, 3,886 kB of additional disk space will be used.\n",
            "Get:1 http://archive.ubuntu.com/ubuntu jammy/universe amd64 libfile-readbackwards-perl all 1.06-1 [11.2 kB]\n",
            "Get:2 http://archive.ubuntu.com/ubuntu jammy/universe amd64 tigervnc-common amd64 1.12.0+dfsg-4 [101 kB]\n",
            "Get:3 http://archive.ubuntu.com/ubuntu jammy/universe amd64 tigervnc-standalone-server amd64 1.12.0+dfsg-4 [1,138 kB]\n",
            "Get:4 http://archive.ubuntu.com/ubuntu jammy/universe amd64 tigervnc-tools amd64 1.12.0+dfsg-4 [21.7 kB]\n",
            "Get:5 http://archive.ubuntu.com/ubuntu jammy/main amd64 x11-xserver-utils amd64 7.7+9build1 [170 kB]\n",
            "Fetched 1,442 kB in 0s (2,916 kB/s)\n",
            "debconf: unable to initialize frontend: Dialog\n",
            "debconf: (No usable dialog-like program is installed, so the dialog based frontend cannot be used. at /usr/share/perl5/Debconf/FrontEnd/Dialog.pm line 78, <> line 5.)\n",
            "debconf: falling back to frontend: Readline\n",
            "debconf: unable to initialize frontend: Readline\n",
            "debconf: (This frontend requires a controlling tty.)\n",
            "debconf: falling back to frontend: Teletype\n",
            "dpkg-preconfigure: unable to re-open stdin: \n",
            "Selecting previously unselected package libfile-readbackwards-perl.\n",
            "(Reading database ... 125018 files and directories currently installed.)\n",
            "Preparing to unpack .../libfile-readbackwards-perl_1.06-1_all.deb ...\n",
            "Unpacking libfile-readbackwards-perl (1.06-1) ...\n",
            "Selecting previously unselected package tigervnc-common.\n",
            "Preparing to unpack .../tigervnc-common_1.12.0+dfsg-4_amd64.deb ...\n",
            "Unpacking tigervnc-common (1.12.0+dfsg-4) ...\n",
            "Selecting previously unselected package tigervnc-standalone-server.\n",
            "Preparing to unpack .../tigervnc-standalone-server_1.12.0+dfsg-4_amd64.deb ...\n",
            "Unpacking tigervnc-standalone-server (1.12.0+dfsg-4) ...\n",
            "Selecting previously unselected package tigervnc-tools.\n",
            "Preparing to unpack .../tigervnc-tools_1.12.0+dfsg-4_amd64.deb ...\n",
            "Unpacking tigervnc-tools (1.12.0+dfsg-4) ...\n",
            "Selecting previously unselected package x11-xserver-utils.\n",
            "Preparing to unpack .../x11-xserver-utils_7.7+9build1_amd64.deb ...\n",
            "Unpacking x11-xserver-utils (7.7+9build1) ...\n",
            "Setting up x11-xserver-utils (7.7+9build1) ...\n",
            "Setting up tigervnc-tools (1.12.0+dfsg-4) ...\n",
            "update-alternatives: using /usr/bin/tigervncpasswd to provide /usr/bin/vncpasswd (vncpasswd) in auto mode\n",
            "Setting up libfile-readbackwards-perl (1.06-1) ...\n",
            "Setting up tigervnc-common (1.12.0+dfsg-4) ...\n",
            "update-alternatives: using /usr/bin/tigervncconfig to provide /usr/bin/vncconfig (vncconfig) in auto mode\n",
            "Setting up tigervnc-standalone-server (1.12.0+dfsg-4) ...\n",
            "update-alternatives: using /usr/bin/tigervncserver to provide /usr/bin/vncserver (vncserver) in auto mode\n",
            "update-alternatives: using /usr/bin/Xtigervnc to provide /usr/bin/Xvnc (Xvnc) in auto mode\n",
            "update-alternatives: using /usr/sbin/tigervncsession to provide /usr/sbin/vncsession (vncsession) in auto mode\n",
            "Processing triggers for man-db (2.10.2-1) ...\n"
          ]
        }
      ],
      "source": [
        "!sudo apt install tigervnc-standalone-server"
      ]
    },
    {
      "cell_type": "code",
      "execution_count": null,
      "metadata": {
        "colab": {
          "background_save": true
        },
        "id": "puIkiKpo8h2O"
      },
      "outputs": [],
      "source": [
        "env = gym.make('MineRLObtainDiamond-v0')\n",
        "env = Recorder(env, './video', fps=60)"
      ]
    },
    {
      "cell_type": "markdown",
      "metadata": {
        "id": "mml67tLIodHo"
      },
      "source": [
        "# Run your agent\n",
        "After the code below finishes you should see a video of the agent and a line saying it received 35.0 reward."
      ]
    },
    {
      "cell_type": "code",
      "execution_count": null,
      "metadata": {
        "colab": {
          "background_save": true,
          "referenced_widgets": [
            "c4562371c10a4deda964a4c52321e327"
          ]
        },
        "id": "VfLeadHR8lmq",
        "outputId": "0a42993d-5dc2-4cc9-8e40-8829e0a00207"
      },
      "outputs": [
        {
          "data": {
            "application/vnd.jupyter.widget-view+json": {
              "model_id": "c4562371c10a4deda964a4c52321e327",
              "version_major": 2,
              "version_minor": 0
            },
            "text/plain": [
              "  0%|          | 0/1436 [00:00<?, ?it/s]"
            ]
          },
          "metadata": {},
          "output_type": "display_data"
        },
        {
          "name": "stdout",
          "output_type": "stream",
          "text": [
            "\n",
            "Total reward = 99.0\n"
          ]
        }
      ],
      "source": [
        "action_sequence = get_action_sequence()\n",
        "\n",
        "env.seed(21)\n",
        "obs = env.reset();\n",
        "\n",
        "total_reward = 0\n",
        "for i, action in enumerate(tqdm(action_sequence)):\n",
        "    obs, reward, done, _ = env.step(str_to_act(env, action))\n",
        "    total_reward += reward\n",
        "    if done:\n",
        "        break\n",
        "\n",
        "env.release()\n",
        "# env.play()\n",
        "env.close()\n",
        "\n",
        "print(f'\\nTotal reward = {total_reward}')"
      ]
    },
    {
      "cell_type": "code",
      "execution_count": null,
      "metadata": {
        "colab": {
          "background_save": true
        },
        "id": "9UKgVtYs5pX4",
        "outputId": "933b1255-f231-4b11-f4a3-c4ef94879d03"
      },
      "outputs": [
        {
          "name": "stdout",
          "output_type": "stream",
          "text": [
            "coal 0\n",
            "cobblestone 5\n",
            "crafting_table 0\n",
            "dirt 3\n",
            "furnace 1\n",
            "iron_axe 0\n",
            "iron_ingot 0\n",
            "iron_ore 0\n",
            "iron_pickaxe 0\n",
            "log 2\n",
            "planks 5\n",
            "stick 4\n",
            "stone 0\n",
            "stone_axe 0\n",
            "stone_pickaxe 1\n",
            "torch 0\n",
            "wooden_axe 0\n",
            "wooden_pickaxe 1\n"
          ]
        }
      ],
      "source": [
        "for o, n in obs['inventory'].items():\n",
        "    print(o, n)"
      ]
    }
  ],
  "metadata": {
    "colab": {
      "provenance": [],
      "include_colab_link": true
    },
    "kernelspec": {
      "display_name": "Python 3",
      "name": "python3"
    },
    "language_info": {
      "name": "python"
    }
  },
  "nbformat": 4,
  "nbformat_minor": 0
}