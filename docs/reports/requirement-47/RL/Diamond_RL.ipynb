{
  "cells": [
    {
      "cell_type": "markdown",
      "metadata": {
        "id": "eDMQY4kQ-vxw"
      },
      "source": [
        "# Parameters"
      ]
    },
    {
      "cell_type": "code",
      "execution_count": 1,
      "metadata": {
        "id": "soJAOH11JLDB"
      },
      "outputs": [],
      "source": [
        "#Variables to change based upon specifics of test\n",
        "TEST_EPISODES = 1 # Number of tests to run for each model\n",
        "TEST_STEPS = 10000 # Total timesteps to run for each model\n",
        "USING_CUSTOM_ENV = True #Are we using a custom enviroment\n",
        "DIRECTORY_PATH = \"/content/drive/MyDrive/packages/minerl_saved_models\" #Directory we have the models saved in\n",
        "SAVE_LOCATION = \"/content/drive/MyDrive/packages/minerl_test_outputs\" #Directory we are saving videos to\n",
        "FORCE_STOP = False #Force stops after one test (for code testing purposes)"
      ]
    },
    {
      "cell_type": "markdown",
      "metadata": {
        "id": "FogkrTGbACWe"
      },
      "source": [
        "#Installations"
      ]
    },
    {
      "cell_type": "code",
      "execution_count": 2,
      "metadata": {
        "colab": {
          "base_uri": "https://localhost:8080/"
        },
        "id": "0jWXGqATTyUM",
        "outputId": "61cd62af-4a6d-4fe0-c1d5-f67e7c3f39e6"
      },
      "outputs": [
        {
          "output_type": "stream",
          "name": "stdout",
          "text": [
            "Mounted at /content/drive\n"
          ]
        }
      ],
      "source": [
        "import sys\n",
        "from google.colab import drive\n",
        "# Allow colab to access google drive\n",
        "drive.mount('/content/drive')"
      ]
    },
    {
      "cell_type": "code",
      "execution_count": 3,
      "metadata": {
        "id": "NmHH-8bnk6Gn"
      },
      "outputs": [],
      "source": [
        "LOCAL_MINERL = True\n",
        "\n",
        "if LOCAL_MINERL:\n",
        "  !chmod 555 -R \"/content/drive/MyDrive/packages/minerl\"\n",
        "  sys.path.append(\"/content/drive/MyDrive/packages/minerl\")\n",
        "  !chmod 555 -R \"/content/drive/MyDrive/packages/MixinGradle-dcfaf61\"\n",
        "  sys.path.append(\"/content/drive/MyDrive/packages/MixinGradle-dcfaf61\")\n"
      ]
    },
    {
      "cell_type": "code",
      "execution_count": 4,
      "metadata": {
        "id": "3EflRXDLT0uC"
      },
      "outputs": [],
      "source": [
        "%%capture\n",
        "!sudo add-apt-repository -y ppa:openjdk-r/ppa\n",
        "!sudo apt-get purge openjdk-*\n",
        "!sudo apt-get install openjdk-8-jdk\n",
        "!sudo apt-get install xvfb\n",
        "!sudo apt-get install xserver-xephyr\n",
        "!sudo apt install tigervnc-standalone-server\n",
        "!sudo apt-get install -y python3-opengl\n",
        "!sudo apt-get install ffmpeg\n",
        "!pip3 install gym==0.13.1\n",
        "if LOCAL_MINERL:\n",
        "  !pip3 install -e /content/drive/MyDrive/packages/minerl\n",
        "else:\n",
        "  !pip3 install minerl==0.4.4 --verbose\n",
        "!pip3 install pyvirtualdisplay\n",
        "!pip3 install -U colabgymrender\n",
        "!sudo apt-get install xvfb\n",
        "!pip3 install opencv-python\n",
        "!pip3 install imageio==2.4.1"
      ]
    },
    {
      "cell_type": "markdown",
      "metadata": {
        "id": "3U6bqwuFAKWH"
      },
      "source": [
        "# Custom Environment Setup"
      ]
    },
    {
      "cell_type": "code",
      "execution_count": 5,
      "metadata": {
        "id": "pQ0lkOviQdEE"
      },
      "outputs": [],
      "source": [
        "# Copyright (c) 2020 All Rights Reserved\n",
        "# Author: William H. Guss, Brandon Houghton\n",
        "from minerl.herobraine.env_specs.simple_embodiment import SimpleEmbodimentEnvSpec\n",
        "from minerl.herobraine.hero.handler import Handler\n",
        "from typing import List\n",
        "\n",
        "import minerl.herobraine.hero.handlers as handlers\n",
        "from minerl.herobraine.hero.mc import ALL_ITEMS\n",
        "\n",
        "\n",
        "\"\"\"\n",
        "The intent of this env_spec is to create a survival environment for our agent to be evaluated in.\n",
        "This environment allows us to tailor the observation and action spaces to our agent's and UI's needs.\n",
        "\"\"\"\n",
        "\n",
        "NONE = 'none'\n",
        "OTHER = 'other'\n",
        "\n",
        "MS_PER_STEP = 50\n",
        "\n",
        "ML4MC_SURVIVAL_LENGTH = 1 * 60 * 60 * 20  # 1 hour * 60 minutes * 60 seconds * 20 ticks/steps per second\n",
        "\n",
        "class ML4MCSurvival(SimpleEmbodimentEnvSpec):\n",
        "    # ML4MCSurvival constructor\n",
        "    def __init__(self, *args, **kwargs):\n",
        "        if 'name' not in kwargs:\n",
        "            kwargs['name'] = 'ML4MCSurvival-v0' # Add environment name if not added\n",
        "\n",
        "        super().__init__(*args, max_episode_steps=ML4MC_SURVIVAL_LENGTH, **kwargs)\n",
        "\n",
        "    # Allows scripts to observe inventory, equipped item, and current location related stats\n",
        "    def create_observables(self) -> List[Handler]:\n",
        "        return super().create_observables() + [\n",
        "            handlers.ObservationFromCurrentLocation(),\n",
        "        ]\n",
        "\n",
        "    # Allows scripts to place blocks, equip items, craft items, and smelt items\n",
        "    def create_actionables(self):\n",
        "        return super().create_actionables()\n",
        "\n",
        "    # No rewards for now with this environment\n",
        "    def create_rewardables(self) -> List[Handler]:\n",
        "        return [\n",
        "            handlers.RewardForCollectingItems([\n",
        "                dict(type=\"diamond\", amount=1, reward=4096),\n",
        "                dict(type=\"cobblestone\", amount=1, reward=4),\n",
        "                dict(type=\"dirt\", amount=1, reward=4),\n",
        "            ]),\n",
        "            handlers.RewardForDistanceTraveledToCompassTarget(reward_per_block=50.0),\n",
        "        ]\n",
        "\n",
        "    # Start the agent with nothing by default, can be modified for testing\n",
        "    def create_agent_start(self) -> List[Handler]:\n",
        "        return [\n",
        "            handlers.SimpleInventoryAgentStart([\n",
        "                dict(type=\"iron_pickaxe\", quantity=2),\n",
        "            ])]\n",
        "\n",
        "    def create_agent_handlers(self) -> List[Handler]:\n",
        "        return [\n",
        "            handlers.AgentQuitFromPossessingItem([\n",
        "                dict(type=\"diamond\", amount=1)]\n",
        "            )\n",
        "        ]\n",
        "\n",
        "    # Use the default world generator\n",
        "    def create_server_world_generators(self) -> List[Handler]:\n",
        "        return [handlers.DefaultWorldGenerator(force_reset=True)]\n",
        "\n",
        "    def create_server_quit_producers(self) -> List[Handler]:\n",
        "        # Set a timeout to end the episode to prevent it from running forever\n",
        "        return [\n",
        "            handlers.ServerQuitFromTimeUp(time_limit_ms=self.max_episode_steps * MS_PER_STEP),\n",
        "            handlers.ServerQuitWhenAnyAgentFinishes()\n",
        "        ]\n",
        "\n",
        "    # This method can be used to change other things about the world such as drawing shapes or spawning a village\n",
        "    # Not needed for ML4MCSurvival\n",
        "    def create_server_decorators(self) -> List[Handler]:\n",
        "        return []\n",
        "\n",
        "    # This method sets the conditions for the world the agent will spawn into\n",
        "    def create_server_initial_conditions(self) -> List[Handler]:\n",
        "        return [\n",
        "            handlers.TimeInitialCondition(\n",
        "                allow_passage_of_time=False,\n",
        "            ),\n",
        "        ]\n",
        "\n",
        "    def is_from_folder(self, folder: str) -> bool:\n",
        "        return folder == 'ml4mc_survival'\n",
        "\n",
        "    # Don't need docstring as we're not publishing this environment to MineRL's website\n",
        "    def get_docstring(self):\n",
        "        return \"\"\n",
        "\n",
        "    def determine_success_from_rewards(self, rewards: list) -> bool:\n",
        "        return sum(rewards) >= 4096"
      ]
    },
    {
      "cell_type": "markdown",
      "metadata": {
        "id": "IGVuu37eAxGR"
      },
      "source": [
        "#Setup"
      ]
    },
    {
      "cell_type": "code",
      "execution_count": 6,
      "metadata": {
        "id": "mKJnAaPmTp7z"
      },
      "outputs": [],
      "source": [
        "import os\n",
        "import numpy as np\n",
        "import torch as th\n",
        "from torch import nn\n",
        "import gym\n",
        "import minerl\n",
        "import pandas as pd\n",
        "from tqdm.notebook import tqdm\n",
        "from colabgymrender.recorder import Recorder\n",
        "from pyvirtualdisplay import Display\n",
        "import logging\n",
        "logging.disable(logging.ERROR)\n",
        "from datetime import datetime"
      ]
    },
    {
      "cell_type": "code",
      "execution_count": 7,
      "metadata": {
        "id": "J8ZrxqPoWiZi"
      },
      "outputs": [],
      "source": [
        "#Start the Display for saving videos on Colab\n",
        "from pyvirtualdisplay import Display\n",
        "from os import path\n",
        "display = Display(visible=False, size=(400, 300))\n",
        "display.start();"
      ]
    },
    {
      "cell_type": "code",
      "execution_count": 8,
      "metadata": {
        "id": "p7Gl5a51N0lF"
      },
      "outputs": [],
      "source": [
        "class NatureCNN(nn.Module):\n",
        "    \"\"\"\n",
        "    CNN from DQN nature paper:\n",
        "        Mnih, Volodymyr, et al.\n",
        "        \"Human-level control through deep reinforcement learning.\"\n",
        "        Nature 518.7540 (2015): 529-533.\n",
        "\n",
        "    :param input_shape: A three-item tuple telling image dimensions in (C, H, W)\n",
        "    :param output_dim: Dimensionality of the output vector\n",
        "    \"\"\"\n",
        "\n",
        "    def __init__(self, input_shape, output_dim):\n",
        "        super().__init__()\n",
        "        n_input_channels = input_shape[0]\n",
        "        self.cnn = nn.Sequential(\n",
        "            nn.Conv2d(n_input_channels, 32, kernel_size=8, stride=4, padding=0),\n",
        "            nn.ReLU(),\n",
        "            nn.Conv2d(32, 64, kernel_size=4, stride=2, padding=0),\n",
        "            nn.ReLU(),\n",
        "            nn.Conv2d(64, 64, kernel_size=3, stride=1, padding=0),\n",
        "            nn.ReLU(),\n",
        "            nn.Flatten(),\n",
        "        )\n",
        "\n",
        "        # Compute shape by doing one forward pass\n",
        "        with th.no_grad():\n",
        "            n_flatten = self.cnn(th.zeros(1, *input_shape)).shape[1]\n",
        "\n",
        "        self.linear = nn.Sequential(\n",
        "            nn.Linear(n_flatten, 512),\n",
        "            nn.ReLU(),\n",
        "            nn.Linear(512, output_dim)\n",
        "        )\n",
        "\n",
        "    def forward(self, observations: th.Tensor) -> th.Tensor:\n",
        "        return self.linear(self.cnn(observations))"
      ]
    },
    {
      "cell_type": "code",
      "execution_count": 9,
      "metadata": {
        "id": "RRfm-fLaORlT"
      },
      "outputs": [],
      "source": [
        "class ActionShaping(gym.ActionWrapper):\n",
        "  def __init__(self, env, camera_angle=10, always_attack=False):\n",
        "    super().__init__(env)\n",
        "\n",
        "    self.camera_angle = camera_angle\n",
        "    self.always_attack = always_attack\n",
        "    self._actions = [\n",
        "      [('attack', 1)],\n",
        "      [('forward', 1)],\n",
        "      [('forward', 1), ('jump', 1)],\n",
        "      [('camera', [-self.camera_angle, 0])],\n",
        "      [('camera', [self.camera_angle, 0])],\n",
        "      [('camera', [0, self.camera_angle])],\n",
        "      [('camera', [0, -self.camera_angle])],\n",
        "    ]\n",
        "\n",
        "    self.actions = []\n",
        "    for actions in self._actions:\n",
        "      act = self.env.action_space.noop()\n",
        "      for a, v in actions:\n",
        "        act[a] = v\n",
        "      if self.always_attack:\n",
        "        act['attack'] = 1\n",
        "      self.actions.append(act)\n",
        "\n",
        "    self.action_space = gym.spaces.Discrete(len(self.actions))\n",
        "\n",
        "  def action(self, action):\n",
        "    return self.actions[action]"
      ]
    },
    {
      "cell_type": "code",
      "execution_count": 10,
      "metadata": {
        "id": "ukMZ747COyoX"
      },
      "outputs": [],
      "source": [
        "def dataset_action_batch_to_actions(dataset_actions, camera_margin=5):\n",
        "  # There are dummy dimensions of shape one\n",
        "  camera_actions = dataset_actions[\"camera\"].squeeze()\n",
        "  attack_actions = dataset_actions[\"attack\"].squeeze()\n",
        "  forward_actions = dataset_actions[\"forward\"].squeeze()\n",
        "  jump_actions = dataset_actions[\"jump\"].squeeze()\n",
        "  batch_size = len(camera_actions)\n",
        "  actions = np.zeros((batch_size,), dtype=np.int)\n",
        "\n",
        "  for i in range(len(camera_actions)):\n",
        "    # Moving camera is most important (horizontal first)\n",
        "    if camera_actions[i][0] < -camera_margin:\n",
        "      actions[i] = 3\n",
        "    elif camera_actions[i][0] > camera_margin:\n",
        "      actions[i] = 4\n",
        "    elif camera_actions[i][1] > camera_margin:\n",
        "      actions[i] = 5\n",
        "    elif camera_actions[i][1] < -camera_margin:\n",
        "      actions[i] = 6\n",
        "    elif forward_actions[i] == 1:\n",
        "      if jump_actions[i] == 1:\n",
        "        actions[i] = 2\n",
        "      else:\n",
        "        actions[i] = 1\n",
        "    elif attack_actions[i] == 1:\n",
        "      actions[i] = 0\n",
        "    else:\n",
        "      # No reasonable mapping (would be no-op)\n",
        "      actions[i] = -1\n",
        "  return actions"
      ]
    },
    {
      "cell_type": "code",
      "execution_count": 11,
      "metadata": {
        "id": "8M2RV4YXPFAo"
      },
      "outputs": [],
      "source": [
        "def str_to_act(env, actions):\n",
        "  act = env.action_space.noop()\n",
        "  for action in actions.split():\n",
        "    if \":\" in action:\n",
        "      k, v = action.split(':')\n",
        "      if k == 'camera':\n",
        "        act[k] = eval(v)\n",
        "      else:\n",
        "        act[k] = v\n",
        "    else:\n",
        "      act[action] = 1\n",
        "  return act"
      ]
    },
    {
      "cell_type": "code",
      "execution_count": 12,
      "metadata": {
        "id": "8Qt-5m-ZNejQ"
      },
      "outputs": [],
      "source": [
        "abs_CUSTOM = ML4MCSurvival()\n",
        "abs_CUSTOM.register()"
      ]
    },
    {
      "cell_type": "code",
      "execution_count": 13,
      "metadata": {
        "id": "wAqdZhEcwJwF",
        "colab": {
          "base_uri": "https://localhost:8080/"
        },
        "outputId": "fc80a5d1-1a2a-4df4-e595-702e1d2a66b5"
      },
      "outputs": [
        {
          "output_type": "stream",
          "name": "stdout",
          "text": [
            "Collecting stable-baselines3\n",
            "  Downloading stable_baselines3-2.3.0-py3-none-any.whl (182 kB)\n",
            "\u001b[2K     \u001b[90m━━━━━━━━━━━━━━━━━━━━━━━━━━━━━━━━━━━━━━━━\u001b[0m \u001b[32m182.1/182.1 kB\u001b[0m \u001b[31m3.3 MB/s\u001b[0m eta \u001b[36m0:00:00\u001b[0m\n",
            "\u001b[?25hCollecting gymnasium<0.30,>=0.28.1 (from stable-baselines3)\n",
            "  Downloading gymnasium-0.29.1-py3-none-any.whl (953 kB)\n",
            "\u001b[2K     \u001b[90m━━━━━━━━━━━━━━━━━━━━━━━━━━━━━━━━━━━━━━━━\u001b[0m \u001b[32m953.9/953.9 kB\u001b[0m \u001b[31m10.3 MB/s\u001b[0m eta \u001b[36m0:00:00\u001b[0m\n",
            "\u001b[?25hRequirement already satisfied: numpy>=1.20 in /usr/local/lib/python3.10/dist-packages (from stable-baselines3) (1.25.2)\n",
            "Requirement already satisfied: torch>=1.13 in /usr/local/lib/python3.10/dist-packages (from stable-baselines3) (2.2.1+cu121)\n",
            "Requirement already satisfied: cloudpickle in /usr/local/lib/python3.10/dist-packages (from stable-baselines3) (1.2.2)\n",
            "Requirement already satisfied: pandas in /usr/local/lib/python3.10/dist-packages (from stable-baselines3) (2.0.3)\n",
            "Requirement already satisfied: matplotlib in /usr/local/lib/python3.10/dist-packages (from stable-baselines3) (3.7.1)\n",
            "Requirement already satisfied: typing-extensions>=4.3.0 in /usr/local/lib/python3.10/dist-packages (from gymnasium<0.30,>=0.28.1->stable-baselines3) (4.10.0)\n",
            "Collecting farama-notifications>=0.0.1 (from gymnasium<0.30,>=0.28.1->stable-baselines3)\n",
            "  Downloading Farama_Notifications-0.0.4-py3-none-any.whl (2.5 kB)\n",
            "Requirement already satisfied: filelock in /usr/local/lib/python3.10/dist-packages (from torch>=1.13->stable-baselines3) (3.13.3)\n",
            "Requirement already satisfied: sympy in /usr/local/lib/python3.10/dist-packages (from torch>=1.13->stable-baselines3) (1.12)\n",
            "Requirement already satisfied: networkx in /usr/local/lib/python3.10/dist-packages (from torch>=1.13->stable-baselines3) (3.2.1)\n",
            "Requirement already satisfied: jinja2 in /usr/local/lib/python3.10/dist-packages (from torch>=1.13->stable-baselines3) (3.1.3)\n",
            "Requirement already satisfied: fsspec in /usr/local/lib/python3.10/dist-packages (from torch>=1.13->stable-baselines3) (2023.6.0)\n",
            "Collecting nvidia-cuda-nvrtc-cu12==12.1.105 (from torch>=1.13->stable-baselines3)\n",
            "  Downloading nvidia_cuda_nvrtc_cu12-12.1.105-py3-none-manylinux1_x86_64.whl (23.7 MB)\n",
            "\u001b[2K     \u001b[90m━━━━━━━━━━━━━━━━━━━━━━━━━━━━━━━━━━━━━━━━\u001b[0m \u001b[32m23.7/23.7 MB\u001b[0m \u001b[31m15.9 MB/s\u001b[0m eta \u001b[36m0:00:00\u001b[0m\n",
            "\u001b[?25hCollecting nvidia-cuda-runtime-cu12==12.1.105 (from torch>=1.13->stable-baselines3)\n",
            "  Downloading nvidia_cuda_runtime_cu12-12.1.105-py3-none-manylinux1_x86_64.whl (823 kB)\n",
            "\u001b[2K     \u001b[90m━━━━━━━━━━━━━━━━━━━━━━━━━━━━━━━━━━━━━━━━\u001b[0m \u001b[32m823.6/823.6 kB\u001b[0m \u001b[31m42.2 MB/s\u001b[0m eta \u001b[36m0:00:00\u001b[0m\n",
            "\u001b[?25hCollecting nvidia-cuda-cupti-cu12==12.1.105 (from torch>=1.13->stable-baselines3)\n",
            "  Downloading nvidia_cuda_cupti_cu12-12.1.105-py3-none-manylinux1_x86_64.whl (14.1 MB)\n",
            "\u001b[2K     \u001b[90m━━━━━━━━━━━━━━━━━━━━━━━━━━━━━━━━━━━━━━━━\u001b[0m \u001b[32m14.1/14.1 MB\u001b[0m \u001b[31m24.2 MB/s\u001b[0m eta \u001b[36m0:00:00\u001b[0m\n",
            "\u001b[?25hCollecting nvidia-cudnn-cu12==8.9.2.26 (from torch>=1.13->stable-baselines3)\n",
            "  Downloading nvidia_cudnn_cu12-8.9.2.26-py3-none-manylinux1_x86_64.whl (731.7 MB)\n",
            "\u001b[2K     \u001b[90m━━━━━━━━━━━━━━━━━━━━━━━━━━━━━━━━━━━━━━━━\u001b[0m \u001b[32m731.7/731.7 MB\u001b[0m \u001b[31m1.9 MB/s\u001b[0m eta \u001b[36m0:00:00\u001b[0m\n",
            "\u001b[?25hCollecting nvidia-cublas-cu12==12.1.3.1 (from torch>=1.13->stable-baselines3)\n",
            "  Downloading nvidia_cublas_cu12-12.1.3.1-py3-none-manylinux1_x86_64.whl (410.6 MB)\n",
            "\u001b[2K     \u001b[90m━━━━━━━━━━━━━━━━━━━━━━━━━━━━━━━━━━━━━━━━\u001b[0m \u001b[32m410.6/410.6 MB\u001b[0m \u001b[31m3.7 MB/s\u001b[0m eta \u001b[36m0:00:00\u001b[0m\n",
            "\u001b[?25hCollecting nvidia-cufft-cu12==11.0.2.54 (from torch>=1.13->stable-baselines3)\n",
            "  Downloading nvidia_cufft_cu12-11.0.2.54-py3-none-manylinux1_x86_64.whl (121.6 MB)\n",
            "\u001b[2K     \u001b[90m━━━━━━━━━━━━━━━━━━━━━━━━━━━━━━━━━━━━━━━━\u001b[0m \u001b[32m121.6/121.6 MB\u001b[0m \u001b[31m7.6 MB/s\u001b[0m eta \u001b[36m0:00:00\u001b[0m\n",
            "\u001b[?25hCollecting nvidia-curand-cu12==10.3.2.106 (from torch>=1.13->stable-baselines3)\n",
            "  Downloading nvidia_curand_cu12-10.3.2.106-py3-none-manylinux1_x86_64.whl (56.5 MB)\n",
            "\u001b[2K     \u001b[90m━━━━━━━━━━━━━━━━━━━━━━━━━━━━━━━━━━━━━━━━\u001b[0m \u001b[32m56.5/56.5 MB\u001b[0m \u001b[31m10.6 MB/s\u001b[0m eta \u001b[36m0:00:00\u001b[0m\n",
            "\u001b[?25hCollecting nvidia-cusolver-cu12==11.4.5.107 (from torch>=1.13->stable-baselines3)\n",
            "  Downloading nvidia_cusolver_cu12-11.4.5.107-py3-none-manylinux1_x86_64.whl (124.2 MB)\n",
            "\u001b[2K     \u001b[90m━━━━━━━━━━━━━━━━━━━━━━━━━━━━━━━━━━━━━━━━\u001b[0m \u001b[32m124.2/124.2 MB\u001b[0m \u001b[31m7.1 MB/s\u001b[0m eta \u001b[36m0:00:00\u001b[0m\n",
            "\u001b[?25hCollecting nvidia-cusparse-cu12==12.1.0.106 (from torch>=1.13->stable-baselines3)\n",
            "  Downloading nvidia_cusparse_cu12-12.1.0.106-py3-none-manylinux1_x86_64.whl (196.0 MB)\n",
            "\u001b[2K     \u001b[90m━━━━━━━━━━━━━━━━━━━━━━━━━━━━━━━━━━━━━━━━\u001b[0m \u001b[32m196.0/196.0 MB\u001b[0m \u001b[31m5.0 MB/s\u001b[0m eta \u001b[36m0:00:00\u001b[0m\n",
            "\u001b[?25hCollecting nvidia-nccl-cu12==2.19.3 (from torch>=1.13->stable-baselines3)\n",
            "  Downloading nvidia_nccl_cu12-2.19.3-py3-none-manylinux1_x86_64.whl (166.0 MB)\n",
            "\u001b[2K     \u001b[90m━━━━━━━━━━━━━━━━━━━━━━━━━━━━━━━━━━━━━━━━\u001b[0m \u001b[32m166.0/166.0 MB\u001b[0m \u001b[31m4.8 MB/s\u001b[0m eta \u001b[36m0:00:00\u001b[0m\n",
            "\u001b[?25hCollecting nvidia-nvtx-cu12==12.1.105 (from torch>=1.13->stable-baselines3)\n",
            "  Downloading nvidia_nvtx_cu12-12.1.105-py3-none-manylinux1_x86_64.whl (99 kB)\n",
            "\u001b[2K     \u001b[90m━━━━━━━━━━━━━━━━━━━━━━━━━━━━━━━━━━━━━━━━\u001b[0m \u001b[32m99.1/99.1 kB\u001b[0m \u001b[31m16.2 MB/s\u001b[0m eta \u001b[36m0:00:00\u001b[0m\n",
            "\u001b[?25hRequirement already satisfied: triton==2.2.0 in /usr/local/lib/python3.10/dist-packages (from torch>=1.13->stable-baselines3) (2.2.0)\n",
            "Collecting nvidia-nvjitlink-cu12 (from nvidia-cusolver-cu12==11.4.5.107->torch>=1.13->stable-baselines3)\n",
            "  Downloading nvidia_nvjitlink_cu12-12.4.127-py3-none-manylinux2014_x86_64.whl (21.1 MB)\n",
            "\u001b[2K     \u001b[90m━━━━━━━━━━━━━━━━━━━━━━━━━━━━━━━━━━━━━━━━\u001b[0m \u001b[32m21.1/21.1 MB\u001b[0m \u001b[31m69.4 MB/s\u001b[0m eta \u001b[36m0:00:00\u001b[0m\n",
            "\u001b[?25hRequirement already satisfied: contourpy>=1.0.1 in /usr/local/lib/python3.10/dist-packages (from matplotlib->stable-baselines3) (1.2.0)\n",
            "Requirement already satisfied: cycler>=0.10 in /usr/local/lib/python3.10/dist-packages (from matplotlib->stable-baselines3) (0.12.1)\n",
            "Requirement already satisfied: fonttools>=4.22.0 in /usr/local/lib/python3.10/dist-packages (from matplotlib->stable-baselines3) (4.50.0)\n",
            "Requirement already satisfied: kiwisolver>=1.0.1 in /usr/local/lib/python3.10/dist-packages (from matplotlib->stable-baselines3) (1.4.5)\n",
            "Requirement already satisfied: packaging>=20.0 in /usr/local/lib/python3.10/dist-packages (from matplotlib->stable-baselines3) (24.0)\n",
            "Requirement already satisfied: pillow>=6.2.0 in /usr/local/lib/python3.10/dist-packages (from matplotlib->stable-baselines3) (9.4.0)\n",
            "Requirement already satisfied: pyparsing>=2.3.1 in /usr/local/lib/python3.10/dist-packages (from matplotlib->stable-baselines3) (3.1.2)\n",
            "Requirement already satisfied: python-dateutil>=2.7 in /usr/local/lib/python3.10/dist-packages (from matplotlib->stable-baselines3) (2.8.2)\n",
            "Requirement already satisfied: pytz>=2020.1 in /usr/local/lib/python3.10/dist-packages (from pandas->stable-baselines3) (2023.4)\n",
            "Requirement already satisfied: tzdata>=2022.1 in /usr/local/lib/python3.10/dist-packages (from pandas->stable-baselines3) (2024.1)\n",
            "Requirement already satisfied: six>=1.5 in /usr/local/lib/python3.10/dist-packages (from python-dateutil>=2.7->matplotlib->stable-baselines3) (1.16.0)\n",
            "Requirement already satisfied: MarkupSafe>=2.0 in /usr/local/lib/python3.10/dist-packages (from jinja2->torch>=1.13->stable-baselines3) (2.1.5)\n",
            "Requirement already satisfied: mpmath>=0.19 in /usr/local/lib/python3.10/dist-packages (from sympy->torch>=1.13->stable-baselines3) (1.3.0)\n",
            "Installing collected packages: farama-notifications, nvidia-nvtx-cu12, nvidia-nvjitlink-cu12, nvidia-nccl-cu12, nvidia-curand-cu12, nvidia-cufft-cu12, nvidia-cuda-runtime-cu12, nvidia-cuda-nvrtc-cu12, nvidia-cuda-cupti-cu12, nvidia-cublas-cu12, gymnasium, nvidia-cusparse-cu12, nvidia-cudnn-cu12, nvidia-cusolver-cu12, stable-baselines3\n",
            "Successfully installed farama-notifications-0.0.4 gymnasium-0.29.1 nvidia-cublas-cu12-12.1.3.1 nvidia-cuda-cupti-cu12-12.1.105 nvidia-cuda-nvrtc-cu12-12.1.105 nvidia-cuda-runtime-cu12-12.1.105 nvidia-cudnn-cu12-8.9.2.26 nvidia-cufft-cu12-11.0.2.54 nvidia-curand-cu12-10.3.2.106 nvidia-cusolver-cu12-11.4.5.107 nvidia-cusparse-cu12-12.1.0.106 nvidia-nccl-cu12-2.19.3 nvidia-nvjitlink-cu12-12.4.127 nvidia-nvtx-cu12-12.1.105 stable-baselines3-2.3.0\n"
          ]
        }
      ],
      "source": [
        "!pip3 install stable-baselines3"
      ]
    },
    {
      "cell_type": "markdown",
      "metadata": {
        "id": "30lI29jkt2xh"
      },
      "source": [
        "Training"
      ]
    },
    {
      "cell_type": "code",
      "execution_count": 14,
      "metadata": {
        "id": "YDhtSIzlt2Q7"
      },
      "outputs": [],
      "source": [
        "from stable_baselines3.common import results_plotter\n",
        "from stable_baselines3.common import monitor\n",
        "from stable_baselines3.common.results_plotter import load_results, ts2xy\n",
        "from stable_baselines3.common.callbacks import BaseCallback"
      ]
    },
    {
      "cell_type": "code",
      "execution_count": 15,
      "metadata": {
        "id": "XP5K4SSXuDPv"
      },
      "outputs": [],
      "source": [
        "from stable_baselines3 import PPO\n",
        "\n",
        "env = gym.make('ML4MCSurvival-v0')"
      ]
    },
    {
      "cell_type": "code",
      "execution_count": 16,
      "metadata": {
        "id": "WH-fkm76uHJi"
      },
      "outputs": [],
      "source": [
        "from colabgymrender.recorder import Recorder\n",
        "env = Recorder(env, \"videos\", fps=60)"
      ]
    },
    {
      "cell_type": "code",
      "execution_count": 17,
      "metadata": {
        "id": "igJif-0kuJfo",
        "colab": {
          "base_uri": "https://localhost:8080/"
        },
        "outputId": "d89d2e63-0f6b-41f0-df23-de1ba37826d4"
      },
      "outputs": [
        {
          "output_type": "stream",
          "name": "stdout",
          "text": [
            "Collecting shimmy\n",
            "  Downloading Shimmy-1.3.0-py3-none-any.whl (37 kB)\n",
            "Requirement already satisfied: numpy>=1.18.0 in /usr/local/lib/python3.10/dist-packages (from shimmy) (1.25.2)\n",
            "Requirement already satisfied: gymnasium>=0.27.0 in /usr/local/lib/python3.10/dist-packages (from shimmy) (0.29.1)\n",
            "Requirement already satisfied: cloudpickle>=1.2.0 in /usr/local/lib/python3.10/dist-packages (from gymnasium>=0.27.0->shimmy) (1.2.2)\n",
            "Requirement already satisfied: typing-extensions>=4.3.0 in /usr/local/lib/python3.10/dist-packages (from gymnasium>=0.27.0->shimmy) (4.10.0)\n",
            "Requirement already satisfied: farama-notifications>=0.0.1 in /usr/local/lib/python3.10/dist-packages (from gymnasium>=0.27.0->shimmy) (0.0.4)\n",
            "Installing collected packages: shimmy\n",
            "Successfully installed shimmy-1.3.0\n"
          ]
        }
      ],
      "source": [
        "!pip install shimmy"
      ]
    },
    {
      "cell_type": "code",
      "execution_count": 18,
      "metadata": {
        "id": "HfpLr5Kgy1fa"
      },
      "outputs": [],
      "source": [
        "#A wrapper for getting the POV of the avatar from the environment, which is needed for stable_baselines\n",
        "class ExtractPOV(gym.ObservationWrapper):\n",
        "  def __init__(self, env):\n",
        "    super().__init__(env)\n",
        "    self.observation_space = self.env.observation_space['pov']\n",
        "\n",
        "  def observation(self, observation):\n",
        "    return observation['pov']"
      ]
    },
    {
      "cell_type": "code",
      "execution_count": 19,
      "metadata": {
        "id": "iaSaJGnduMiw",
        "colab": {
          "base_uri": "https://localhost:8080/"
        },
        "outputId": "ac272e00-6adc-42a8-dac6-9f6a318af928"
      },
      "outputs": [
        {
          "output_type": "stream",
          "name": "stdout",
          "text": [
            "Using cpu device\n",
            "Wrapping the env with a `Monitor` wrapper\n",
            "Wrapping the env in a DummyVecEnv.\n",
            "Wrapping the env in a VecTransposeImage.\n"
          ]
        }
      ],
      "source": [
        "obs_wrapped_diamond = ExtractPOV(env) #Extracting the POV of the avatar from the environment which is needed for stable_baselines\n",
        "obs_action_wrapped_diamond = ActionShaping(obs_wrapped_diamond, always_attack=True) #Performing action shaping on the actions of the environment to convert them from dictionaries into an array.\n",
        "obs = obs_action_wrapped_diamond.reset() #reseting the provided environnment\n",
        "\n",
        "model = PPO(policy=\"CnnPolicy\", env=obs_action_wrapped_diamond, verbose=1) #Setting the model to be a PPO model with a CnnPolicy. This was just the model used by tutorials, we'll experiment with the best model later"
      ]
    },
    {
      "cell_type": "code",
      "execution_count": null,
      "metadata": {
        "id": "ZgeHXiGOfA_R",
        "colab": {
          "base_uri": "https://localhost:8080/"
        },
        "outputId": "46e4cd78-9ba9-49fa-bb6a-434be3112494"
      },
      "outputs": [
        {
          "output_type": "stream",
          "name": "stdout",
          "text": [
            "---------------------------------\n",
            "| rollout/           |          |\n",
            "|    ep_len_mean     | 562      |\n",
            "|    ep_rew_mean     | -2e-06   |\n",
            "| time/              |          |\n",
            "|    fps             | 8        |\n",
            "|    iterations      | 1        |\n",
            "|    time_elapsed    | 252      |\n",
            "|    total_timesteps | 2048     |\n",
            "---------------------------------\n",
            "---------------------------------------\n",
            "| rollout/                |           |\n",
            "|    ep_len_mean          | 1.51e+03  |\n",
            "|    ep_rew_mean          | 29        |\n",
            "| time/                   |           |\n",
            "|    fps                  | 8         |\n",
            "|    iterations           | 2         |\n",
            "|    time_elapsed         | 455       |\n",
            "|    total_timesteps      | 4096      |\n",
            "| train/                  |           |\n",
            "|    approx_kl            | 0.0402933 |\n",
            "|    clip_fraction        | 0.275     |\n",
            "|    clip_range           | 0.2       |\n",
            "|    entropy_loss         | -1.92     |\n",
            "|    explained_variance   | -0.00176  |\n",
            "|    learning_rate        | 0.0003    |\n",
            "|    loss                 | 129       |\n",
            "|    n_updates            | 10        |\n",
            "|    policy_gradient_loss | -0.00488  |\n",
            "|    value_loss           | 381       |\n",
            "---------------------------------------\n",
            "----------------------------------------\n",
            "| rollout/                |            |\n",
            "|    ep_len_mean          | 1.59e+03   |\n",
            "|    ep_rew_mean          | 230        |\n",
            "| time/                   |            |\n",
            "|    fps                  | 9          |\n",
            "|    iterations           | 3          |\n",
            "|    time_elapsed         | 666        |\n",
            "|    total_timesteps      | 6144       |\n",
            "| train/                  |            |\n",
            "|    approx_kl            | 0.19366804 |\n",
            "|    clip_fraction        | 0.632      |\n",
            "|    clip_range           | 0.2        |\n",
            "|    entropy_loss         | -1.76      |\n",
            "|    explained_variance   | 0.153      |\n",
            "|    learning_rate        | 0.0003     |\n",
            "|    loss                 | 83.6       |\n",
            "|    n_updates            | 20         |\n",
            "|    policy_gradient_loss | 0.0715     |\n",
            "|    value_loss           | 296        |\n",
            "----------------------------------------\n",
            "----------------------------------------\n",
            "| rollout/                |            |\n",
            "|    ep_len_mean          | 1.59e+03   |\n",
            "|    ep_rew_mean          | 230        |\n",
            "| time/                   |            |\n",
            "|    fps                  | 10         |\n",
            "|    iterations           | 4          |\n",
            "|    time_elapsed         | 800        |\n",
            "|    total_timesteps      | 8192       |\n",
            "| train/                  |            |\n",
            "|    approx_kl            | 0.08507192 |\n",
            "|    clip_fraction        | 0.356      |\n",
            "|    clip_range           | 0.2        |\n",
            "|    entropy_loss         | -1.84      |\n",
            "|    explained_variance   | -0.00806   |\n",
            "|    learning_rate        | 0.0003     |\n",
            "|    loss                 | 219        |\n",
            "|    n_updates            | 30         |\n",
            "|    policy_gradient_loss | 0.0131     |\n",
            "|    value_loss           | 587        |\n",
            "----------------------------------------\n",
            "-----------------------------------------\n",
            "| rollout/                |             |\n",
            "|    ep_len_mean          | 1.59e+03    |\n",
            "|    ep_rew_mean          | 230         |\n",
            "| time/                   |             |\n",
            "|    fps                  | 11          |\n",
            "|    iterations           | 5           |\n",
            "|    time_elapsed         | 904         |\n",
            "|    total_timesteps      | 10240       |\n",
            "| train/                  |             |\n",
            "|    approx_kl            | 0.048695453 |\n",
            "|    clip_fraction        | 0.273       |\n",
            "|    clip_range           | 0.2         |\n",
            "|    entropy_loss         | -1.92       |\n",
            "|    explained_variance   | 0.029       |\n",
            "|    learning_rate        | 0.0003      |\n",
            "|    loss                 | 157         |\n",
            "|    n_updates            | 40          |\n",
            "|    policy_gradient_loss | -0.00114    |\n",
            "|    value_loss           | 438         |\n",
            "-----------------------------------------\n",
            "-----------------------------------------\n",
            "| rollout/                |             |\n",
            "|    ep_len_mean          | 2.6e+03     |\n",
            "|    ep_rew_mean          | 783         |\n",
            "| time/                   |             |\n",
            "|    fps                  | 11          |\n",
            "|    iterations           | 6           |\n",
            "|    time_elapsed         | 1107        |\n",
            "|    total_timesteps      | 12288       |\n",
            "| train/                  |             |\n",
            "|    approx_kl            | 0.038166825 |\n",
            "|    clip_fraction        | 0.354       |\n",
            "|    clip_range           | 0.2         |\n",
            "|    entropy_loss         | -1.84       |\n",
            "|    explained_variance   | 0.283       |\n",
            "|    learning_rate        | 0.0003      |\n",
            "|    loss                 | 411         |\n",
            "|    n_updates            | 50          |\n",
            "|    policy_gradient_loss | 0.0054      |\n",
            "|    value_loss           | 742         |\n",
            "-----------------------------------------\n",
            "---------------------------------------\n",
            "| rollout/                |           |\n",
            "|    ep_len_mean          | 2.6e+03   |\n",
            "|    ep_rew_mean          | 783       |\n",
            "| time/                   |           |\n",
            "|    fps                  | 11        |\n",
            "|    iterations           | 7         |\n",
            "|    time_elapsed         | 1270      |\n",
            "|    total_timesteps      | 14336     |\n",
            "| train/                  |           |\n",
            "|    approx_kl            | 0.9739654 |\n",
            "|    clip_fraction        | 0.489     |\n",
            "|    clip_range           | 0.2       |\n",
            "|    entropy_loss         | -0.576    |\n",
            "|    explained_variance   | 0.207     |\n",
            "|    learning_rate        | 0.0003    |\n",
            "|    loss                 | 220       |\n",
            "|    n_updates            | 60        |\n",
            "|    policy_gradient_loss | 0.108     |\n",
            "|    value_loss           | 768       |\n",
            "---------------------------------------\n",
            "---------------------------------------\n",
            "| rollout/                |           |\n",
            "|    ep_len_mean          | 2.6e+03   |\n",
            "|    ep_rew_mean          | 783       |\n",
            "| time/                   |           |\n",
            "|    fps                  | 11        |\n",
            "|    iterations           | 8         |\n",
            "|    time_elapsed         | 1437      |\n",
            "|    total_timesteps      | 16384     |\n",
            "| train/                  |           |\n",
            "|    approx_kl            | 0.3565323 |\n",
            "|    clip_fraction        | 0.19      |\n",
            "|    clip_range           | 0.2       |\n",
            "|    entropy_loss         | -0.199    |\n",
            "|    explained_variance   | 0.214     |\n",
            "|    learning_rate        | 0.0003    |\n",
            "|    loss                 | 61.1      |\n",
            "|    n_updates            | 70        |\n",
            "|    policy_gradient_loss | 0.000732  |\n",
            "|    value_loss           | 168       |\n",
            "---------------------------------------\n"
          ]
        }
      ],
      "source": [
        "model.learn(total_timesteps=50000) #Training the model, allowing it to walk through 50000 timesteps of the environment (about 1.5 minutes)\n",
        "env.release() #releasing the recorded environment to actually make a video on Colab."
      ]
    },
    {
      "cell_type": "code",
      "execution_count": null,
      "metadata": {
        "id": "HRwbRPKIfI9W"
      },
      "outputs": [],
      "source": [
        "model.save('diamond.pth' )"
      ]
    }
  ],
  "metadata": {
    "colab": {
      "provenance": []
    },
    "kernelspec": {
      "display_name": "Python 3",
      "name": "python3"
    },
    "language_info": {
      "name": "python"
    }
  },
  "nbformat": 4,
  "nbformat_minor": 0
}