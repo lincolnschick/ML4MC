{
  "cells": [
    {
      "cell_type": "markdown",
      "metadata": {
        "id": "ysSTXmT3YUeF"
      },
      "source": [
        "# Setup"
      ]
    },
    {
      "cell_type": "code",
      "execution_count": 1,
      "metadata": {
        "id": "wY9_z9SWaCbg"
      },
      "outputs": [],
      "source": [
        "# Import librairies for numpy and drive\n",
        "import numpy as np\n",
        "from pathlib import Path\n",
        "import sys\n",
        "from google.colab import drive"
      ]
    },
    {
      "cell_type": "code",
      "execution_count": null,
      "metadata": {
        "id": "tLlKGoYOWU9f"
      },
      "outputs": [],
      "source": [
        "# Allow colab to access google drive\n",
        "drive.mount('/content/drive')\n",
        "# Add minerl's folder to path, so we can install it with pip\n",
        "sys.path.append(\"/content/drive/MyDrive/packages/minerl\")"
      ]
    },
    {
      "cell_type": "code",
      "execution_count": null,
      "metadata": {
        "id": "_9cQHeTCPSaU"
      },
      "outputs": [],
      "source": [
        "# Basic installs for gym and recording in Colab\n",
        "!sudo add-apt-repository -y ppa:openjdk-r/ppa\n",
        "!sudo apt-get purge openjdk-*\n",
        "!sudo apt-get install openjdk-8-jdk\n",
        "!sudo apt-get install xvfb\n",
        "!sudo apt-get install xserver-xephyr\n",
        "!sudo apt install tigervnc-standalone-server\n",
        "!sudo apt-get install -y python3-opengl\n",
        "!sudo apt-get install ffmpeg\n",
        "!pip3 install gym==0.13.1\n",
        "!pip3 install -e /content/drive/MyDrive/packages/minerl\n",
        "!pip3 install pyvirtualdisplay\n",
        "!pip3 install -U colabgymrender"
      ]
    },
    {
      "cell_type": "markdown",
      "metadata": {
        "id": "ADmrUKxvYXGa"
      },
      "source": [
        "# Import Libraries"
      ]
    },
    {
      "cell_type": "code",
      "execution_count": null,
      "metadata": {
        "id": "g8_vZpMFpiD9"
      },
      "outputs": [],
      "source": [
        "# Basic imports for Minerl and Pytorch\n",
        "import torch as th\n",
        "from torch import nn\n",
        "import gym\n",
        "import minerl\n",
        "# from minerl.herobraine.env_specs.stone_collection_specs import StoneCollection\n",
        "from tqdm.notebook import tqdm\n",
        "from colabgymrender.recorder import Recorder\n",
        "from pyvirtualdisplay import Display\n",
        "import logging"
      ]
    },
    {
      "cell_type": "markdown",
      "metadata": {
        "id": "zKiasaipYa6l"
      },
      "source": [
        "# Neural network"
      ]
    },
    {
      "cell_type": "code",
      "execution_count": null,
      "metadata": {
        "id": "MyOxGuA5At1g"
      },
      "outputs": [],
      "source": [
        "class NatureCNN(nn.Module):\n",
        "    \"\"\"\n",
        "    CNN from DQN nature paper:\n",
        "        Mnih, Volodymyr, et al.\n",
        "        \"Human-level control through deep reinforcement learning.\"\n",
        "        Nature 518.7540 (2015): 529-533.\n",
        "\n",
        "    :param input_shape: A three-item tuple telling image dimensions in (C, H, W)\n",
        "    :param output_dim: Dimensionality of the output vector\n",
        "    \"\"\"\n",
        "\n",
        "    def __init__(self, input_shape, output_dim):\n",
        "        super().__init__()\n",
        "        n_input_channels = input_shape[0]\n",
        "        self.cnn = nn.Sequential(\n",
        "            nn.Conv2d(n_input_channels, 32, kernel_size=8, stride=4, padding=0),\n",
        "            nn.ReLU(),\n",
        "            nn.Conv2d(32, 64, kernel_size=4, stride=2, padding=0),\n",
        "            nn.ReLU(),\n",
        "            nn.Conv2d(64, 64, kernel_size=3, stride=1, padding=0),\n",
        "            nn.ReLU(),\n",
        "            nn.Flatten(),\n",
        "        )\n",
        "\n",
        "        # Compute shape by doing one forward pass\n",
        "        with th.no_grad():\n",
        "            n_flatten = self.cnn(th.zeros(1, *input_shape)).shape[1]\n",
        "\n",
        "        self.linear = nn.Sequential(\n",
        "            nn.Linear(n_flatten, 512),\n",
        "            nn.ReLU(),\n",
        "            nn.Linear(512, output_dim)\n",
        "        )\n",
        "\n",
        "    def forward(self, observations: th.Tensor) -> th.Tensor:\n",
        "        return self.linear(self.cnn(observations))"
      ]
    },
    {
      "cell_type": "markdown",
      "metadata": {
        "id": "6WwX1vgpYfuC"
      },
      "source": [
        "# Environment wrappers"
      ]
    },
    {
      "cell_type": "code",
      "execution_count": null,
      "metadata": {
        "id": "H8em_oPbA9PQ"
      },
      "outputs": [],
      "source": [
        "class ActionShaping(gym.ActionWrapper):\n",
        "    \"\"\"\n",
        "    The default MineRL action space is the following dict:\n",
        "\n",
        "    Dict(attack:Discrete(2),\n",
        "         back:Discrete(2),\n",
        "         camera:Box(low=-180.0, high=180.0, shape=(2,)),\n",
        "         craft:Enum(crafting_table,none,planks,stick,torch),\n",
        "         equip:Enum(air,iron_axe,iron_pickaxe,none,stone_axe,stone_pickaxe,wooden_axe,wooden_pickaxe),\n",
        "         forward:Discrete(2),\n",
        "         jump:Discrete(2),\n",
        "         left:Discrete(2),\n",
        "         nearbyCraft:Enum(furnace,iron_axe,iron_pickaxe,none,stone_axe,stone_pickaxe,wooden_axe,wooden_pickaxe),\n",
        "         nearbySmelt:Enum(coal,iron_ingot,none),\n",
        "         place:Enum(cobblestone,crafting_table,dirt,furnace,none,stone,torch),\n",
        "         right:Discrete(2),\n",
        "         sneak:Discrete(2),\n",
        "         sprint:Discrete(2))\n",
        "\n",
        "    It can be viewed as:\n",
        "         - buttons, like attack, back, forward, sprint that are either pressed or not.\n",
        "         - mouse, i.e. the continuous camera action in degrees. The two values are pitch (up/down), where up is\n",
        "           negative, down is positive, and yaw (left/right), where left is negative, right is positive.\n",
        "         - craft/equip/place actions for items specified above.\n",
        "    So an example action could be sprint + forward + jump + attack + turn camera, all in one action.\n",
        "\n",
        "    This wrapper makes the action space much smaller by selecting a few common actions and making the camera actions\n",
        "    discrete. You can change these actions by changing self._actions below. That should just work with the RL agent,\n",
        "    but would require some further tinkering below with the BC one.\n",
        "    \"\"\"\n",
        "    def __init__(self, env, camera_angle=10, always_attack=False):\n",
        "        super().__init__(env)\n",
        "\n",
        "        self.camera_angle = camera_angle\n",
        "        self.always_attack = always_attack\n",
        "        self._actions = [\n",
        "            [('attack', 1)],\n",
        "            [('forward', 1)],\n",
        "            # Actions below not needed\n",
        "            # [('back', 1)],\n",
        "            # [('left', 1)],\n",
        "            # [('right', 1)],\n",
        "            # [('jump', 1)],\n",
        "            # [('forward', 1), ('attack', 1)],\n",
        "            # [('craft', 'planks')],\n",
        "            [('forward', 1), ('jump', 1)],\n",
        "            [('camera', [-self.camera_angle, 0])],\n",
        "            [('camera', [self.camera_angle, 0])],\n",
        "            [('camera', [0, self.camera_angle])],\n",
        "            [('camera', [0, -self.camera_angle])],\n",
        "        ]\n",
        "\n",
        "        self.actions = []\n",
        "        for actions in self._actions:\n",
        "            act = self.env.action_space.noop()\n",
        "            for a, v in actions:\n",
        "                act[a] = v\n",
        "            if self.always_attack:\n",
        "                act['attack'] = 1\n",
        "            self.actions.append(act)\n",
        "\n",
        "        self.action_space = gym.spaces.Discrete(len(self.actions))\n",
        "\n",
        "    def action(self, action):\n",
        "        return self.actions[action]"
      ]
    },
    {
      "cell_type": "markdown",
      "metadata": {
        "id": "NFI364GwY6Oe"
      },
      "source": [
        "# Data parser"
      ]
    },
    {
      "cell_type": "code",
      "execution_count": null,
      "metadata": {
        "id": "-cZo-d6pA4br"
      },
      "outputs": [],
      "source": [
        "def dataset_action_batch_to_actions(dataset_actions, camera_margin=5):\n",
        "    \"\"\"\n",
        "    Turn a batch of actions from dataset (`batch_iter`) to a numpy\n",
        "    array that corresponds to batch of actions of ActionShaping wrapper (_actions).\n",
        "\n",
        "    Camera margin sets the threshold what is considered \"moving camera\".\n",
        "\n",
        "    Note: Hardcoded to work for actions in ActionShaping._actions, with \"intuitive\"\n",
        "        ordering of actions.\n",
        "        If you change ActionShaping._actions, remember to change this!\n",
        "\n",
        "    Array elements are integers corresponding to actions, or \"-1\"\n",
        "    for actions that did not have any corresponding discrete match.\n",
        "    \"\"\"\n",
        "    # There are dummy dimensions of shape one\n",
        "    camera_actions = dataset_actions[\"camera\"].squeeze()\n",
        "    attack_actions = dataset_actions[\"attack\"].squeeze()\n",
        "    forward_actions = dataset_actions[\"forward\"].squeeze()\n",
        "    jump_actions = dataset_actions[\"jump\"].squeeze()\n",
        "    batch_size = len(camera_actions)\n",
        "    actions = np.zeros((batch_size,), dtype=np.int)\n",
        "\n",
        "    for i in range(len(camera_actions)):\n",
        "        # Moving camera is most important (horizontal first)\n",
        "        if camera_actions[i][0] < -camera_margin:\n",
        "            actions[i] = 3\n",
        "        elif camera_actions[i][0] > camera_margin:\n",
        "            actions[i] = 4\n",
        "        elif camera_actions[i][1] > camera_margin:\n",
        "            actions[i] = 5\n",
        "        elif camera_actions[i][1] < -camera_margin:\n",
        "            actions[i] = 6\n",
        "        elif forward_actions[i] == 1:\n",
        "            if jump_actions[i] == 1:\n",
        "                actions[i] = 2\n",
        "            else:\n",
        "                actions[i] = 1\n",
        "        elif attack_actions[i] == 1:\n",
        "            actions[i] = 0\n",
        "        else:\n",
        "            # No reasonable mapping (would be no-op)\n",
        "            actions[i] = -1\n",
        "    return actions"
      ]
    },
    {
      "cell_type": "markdown",
      "metadata": {
        "id": "fg68dO21ZsgG"
      },
      "source": [
        "# Parameters"
      ]
    },
    {
      "cell_type": "code",
      "execution_count": null,
      "metadata": {
        "id": "O5VCVeHyqDlm"
      },
      "outputs": [],
      "source": [
        "# Parameters:\n",
        "TRAIN_MODEL_NAME = 'behavioral_cloning.pth'  # name to use when saving the trained agent.\n",
        "TEST_MODEL_NAME = 'behavioral_cloning.pth'  # name to use when loading the trained agent.\n",
        "\n",
        "TEST_EPISODES = 5  # number of episodes to test the agent for.\n",
        "MAX_TEST_EPISODE_LEN = 5000  # 18k is the default for MineRLObtainDiamond.\n",
        "FINDCAVE_STEPS = 3000  # number of steps to run BC for in evaluations."
      ]
    },
    {
      "cell_type": "markdown",
      "metadata": {
        "id": "BvrJks0gZCTW"
      },
      "source": [
        "# Setup training"
      ]
    },
    {
      "cell_type": "code",
      "execution_count": null,
      "metadata": {
        "id": "OpH8vzpLBGRY"
      },
      "outputs": [],
      "source": [
        "def train(epochs, learning_rate, batch_size):\n",
        "    \"\"\"\n",
        "    :param epochs: How many times we train over the dataset\n",
        "    :param learning_rate: Learning rate for the neural network\n",
        "    :param batch_size: How many samples before the model is updated\n",
        "    \"\"\"\n",
        "\n",
        "    # abs_STONE = StoneCollection()\n",
        "    # abs_STONE.register() # Register with gym\n",
        "    data = minerl.data.make(\"MineRLObtainIronPickaxe-v0\",  data_dir='drive/MyDrive/packages/data', num_workers=4)\n",
        "\n",
        "    # We know ActionShaping has seven discrete actions, so we create\n",
        "    # a network to map images to seven values (logits), which represent\n",
        "    # likelihoods of selecting those actions\n",
        "    network = NatureCNN((3, 64, 64), 7).cuda()\n",
        "    optimizer = th.optim.Adam(network.parameters(), lr=learning_rate)\n",
        "    loss_function = nn.CrossEntropyLoss()\n",
        "\n",
        "    iter_count = 0\n",
        "    losses = []\n",
        "    for dataset_obs, dataset_actions, _, _, _ in tqdm(data.batch_iter(num_epochs=epochs, batch_size=batch_size, seq_len=1)):\n",
        "        # We only use pov observations (also remove dummy dimensions)\n",
        "        obs = dataset_obs[\"pov\"].squeeze().astype(np.float32)\n",
        "        # Transpose observations to be channel-first (BCHW instead of BHWC)\n",
        "        obs = obs.transpose(0, 3, 1, 2)\n",
        "        # Normalize observations\n",
        "        obs /= 255.0\n",
        "\n",
        "        # Actions need bit more work\n",
        "        actions = dataset_action_batch_to_actions(dataset_actions)\n",
        "\n",
        "        # Remove samples that had no corresponding action\n",
        "        mask = actions != -1\n",
        "        obs = obs[mask]\n",
        "        actions = actions[mask]\n",
        "\n",
        "        # Obtain logits of each action\n",
        "        logits = network(th.from_numpy(obs).float().cuda())\n",
        "\n",
        "        # Minimize cross-entropy with target labels.\n",
        "        # We could also compute the probability of demonstration actions and\n",
        "        # maximize them.\n",
        "        loss = loss_function(logits, th.from_numpy(actions).long().cuda())\n",
        "\n",
        "        # Standard PyTorch update\n",
        "        optimizer.zero_grad()\n",
        "        loss.backward()\n",
        "        optimizer.step()\n",
        "        iter_count += 1\n",
        "        losses.append(loss.item())\n",
        "        if (iter_count % 1000) == 0:\n",
        "            mean_loss = sum(losses) / len(losses)\n",
        "            tqdm.write(\"Iteration {}. Loss {:<10.3f}\".format(iter_count, mean_loss))\n",
        "            losses.clear()\n",
        "\n",
        "    th.save(network.state_dict(), TRAIN_MODEL_NAME)"
      ]
    },
    {
      "cell_type": "markdown",
      "metadata": {
        "id": "lumAopy0cHBM"
      },
      "source": [
        "# Download the data"
      ]
    },
    {
      "cell_type": "code",
      "execution_count": null,
      "metadata": {
        "id": "NzD13IclpD4T"
      },
      "outputs": [],
      "source": [
        "# Download the Iron Pickaxe dataset\n",
        "minerl.data.download(directory='drive/MyDrive/packages/data', environment='MineRLObtainIronPickaxe-v0');"
      ]
    },
    {
      "cell_type": "markdown",
      "metadata": {
        "id": "0zKLHW_JcRBJ"
      },
      "source": [
        "# Train"
      ]
    },
    {
      "cell_type": "code",
      "execution_count": null,
      "metadata": {
        "id": "IH84zVpiB19e"
      },
      "outputs": [],
      "source": [
        "# Train the model for the designated epochs, learning rate, and batch size\n",
        "train(6, 0.0001, 21)"
      ]
    }
  ],
  "metadata": {
    "accelerator": "GPU",
    "colab": {
      "provenance": [],
      "gpuType": "T4"
    },
    "kernelspec": {
      "display_name": "Python 3",
      "name": "python3"
    },
    "language_info": {
      "name": "python"
    }
  },
  "nbformat": 4,
  "nbformat_minor": 0
}